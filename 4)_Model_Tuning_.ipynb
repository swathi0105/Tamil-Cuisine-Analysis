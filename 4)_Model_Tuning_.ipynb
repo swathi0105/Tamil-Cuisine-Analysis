{
  "nbformat": 4,
  "nbformat_minor": 0,
  "metadata": {
    "colab": {
      "provenance": []
    },
    "kernelspec": {
      "name": "python3",
      "display_name": "Python 3"
    },
    "language_info": {
      "name": "python"
    }
  },
  "cells": [
    {
      "cell_type": "code",
      "source": [
        "import pandas as pd\n",
        "import numpy as np\n",
        "import re\n",
        "from sklearn.feature_extraction.text import TfidfVectorizer\n",
        "from sklearn.preprocessing import LabelEncoder\n",
        "\n",
        "from sklearn.tree import DecisionTreeRegressor\n",
        "from sklearn.model_selection import GridSearchCV, train_test_split\n",
        "from sklearn.metrics import mean_squared_error"
      ],
      "metadata": {
        "id": "USTUOaPlpVM8"
      },
      "execution_count": null,
      "outputs": []
    },
    {
      "cell_type": "code",
      "source": [
        "# Load the dataset\n",
        "df = pd.read_csv('Tamil_Cuisine_Analysis.csv')\n",
        "\n",
        "# Pre-processing\n",
        "# Remove special characters and convert to lowercase\n",
        "df['ingredients'] = df['ingredients'].apply(lambda x: re.sub('[^a-zA-Z0-9\\n\\.]', ' ', x.lower()))\n",
        "df['recipe_name'] = df['recipe_name'].apply(lambda x: re.sub('[^a-zA-Z0-9\\n\\.]', ' ', x.lower()))\n",
        "\n",
        "# Feature engineering\n",
        "# Encode meal_type, cuisine and diet columns using LabelEncoder\n",
        "label_enc = LabelEncoder()\n",
        "df['meal_type'] = label_enc.fit_transform(df['meal_type'])\n",
        "df['cuisine'] = label_enc.fit_transform(df['cuisine'])\n",
        "df['diet'] = label_enc.fit_transform(df['diet'])\n",
        "\n",
        "# Convert the ingredients column into a matrix of TF-IDF features\n",
        "tfidf = TfidfVectorizer(stop_words='english')\n",
        "tfidf_matrix = tfidf.fit_transform(df['ingredients'])\n",
        "\n",
        "# Combine the encoded columns with the TF-IDF features\n",
        "encoded_df = pd.DataFrame({'meal_type': df['meal_type'],\n",
        "                           'cuisine': df['cuisine'],\n",
        "                           'diet': df['diet']})\n",
        "feature_matrix = np.hstack((encoded_df, tfidf_matrix.toarray()))\n",
        "\n",
        "# Save the feature matrix and target variable (calories) for modeling\n",
        "np.save('feature_matrix.npy', feature_matrix)\n",
        "np.save('target.npy', df['calories'])\n"
      ],
      "metadata": {
        "id": "oKECffNTlpoh"
      },
      "execution_count": null,
      "outputs": []
    },
    {
      "cell_type": "code",
      "source": [
        "\n",
        "# Load the feature matrix and target variable\n",
        "X = np.load('feature_matrix.npy')\n",
        "y = np.load('target.npy')\n",
        "\n",
        "# Split the data into training and test sets\n",
        "X_train, X_test, y_train, y_test = train_test_split(X, y, test_size=0.2, random_state=42)\n",
        "\n",
        "# Define the decision tree regressor\n",
        "dtr = DecisionTreeRegressor(random_state=42)\n",
        "\n",
        "# Define the hyperparameters to tune\n",
        "parameters = {\n",
        "    'max_depth': [None, 5, 10, 15],\n",
        "    'min_samples_split': [2, 5, 10],\n",
        "    'min_samples_leaf': [1, 2, 4],\n",
        "}\n",
        "\n",
        "# Perform grid search to find the best hyperparameters\n",
        "grid_search = GridSearchCV(dtr, parameters, cv=5, n_jobs=-1)\n",
        "grid_search.fit(X_train, y_train)\n",
        "\n",
        "# Print the best hyperparameters and score\n",
        "print(\"Best parameters: \", grid_search.best_params_)\n",
        "print(\"Best score: \", grid_search.best_score_)\n",
        "\n",
        "# Use the best hyperparameters to fit the model\n",
        "best_dtr = DecisionTreeRegressor(**grid_search.best_params_, random_state=42)\n",
        "best_dtr.fit(X_train, y_train)\n",
        "\n",
        "# Evaluate the model on the test set\n",
        "y_pred = best_dtr.predict(X_test)\n",
        "mse = mean_squared_error(y_test, y_pred)\n",
        "print(\"Mean squared error: \", mse)\n"
      ],
      "metadata": {
        "colab": {
          "base_uri": "https://localhost:8080/"
        },
        "id": "FxOMkq42pEPn",
        "outputId": "f595fffb-5c75-4f31-a261-84766c052bc6"
      },
      "execution_count": null,
      "outputs": [
        {
          "output_type": "stream",
          "name": "stdout",
          "text": [
            "Best parameters:  {'max_depth': 5, 'min_samples_leaf': 1, 'min_samples_split': 10}\n",
            "Best score:  0.12641854268227776\n",
            "Mean squared error:  27595.412318367347\n"
          ]
        }
      ]
    },
    {
      "cell_type": "code",
      "source": [
        "import matplotlib.pyplot as plt\n",
        "\n",
        "# Get the best hyperparameters from GridSearchCV\n",
        "best_params = grid_search.best_params_\n",
        "\n",
        "# Create a bar chart of the best hyperparameters\n",
        "fig, ax = plt.subplots(figsize=(8, 6))\n",
        "ax.bar(best_params.keys(), best_params.values())\n",
        "ax.set_title('Best Hyperparameters')\n",
        "ax.set_xlabel('Hyperparameter')\n",
        "ax.set_ylabel('Value')\n",
        "plt.show()\n"
      ],
      "metadata": {
        "colab": {
          "base_uri": "https://localhost:8080/",
          "height": 564
        },
        "id": "mVzt-8hroUXU",
        "outputId": "a8e0e8b1-39c9-4a12-8a2c-aa633b1c903b"
      },
      "execution_count": null,
      "outputs": [
        {
          "output_type": "display_data",
          "data": {
            "text/plain": [
              "<Figure size 800x600 with 1 Axes>"
            ],
            "image/png": "[encoded data removed]"
          },
          "metadata": {}
        }
      ]
    },
    {
      "cell_type": "code",
      "source": [],
      "metadata": {
        "id": "JveaXkzQp0uA"
      },
      "execution_count": null,
      "outputs": []
    }
  ]
}